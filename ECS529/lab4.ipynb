{
 "cells": [
  {
   "cell_type": "markdown",
   "metadata": {},
   "source": [
    "# ECS529U Algorithms and Data Structures\n",
    "# Lab sheet 4\n",
    "\n",
    "This fourth lab gets you to work with recursive algorithms and also practically compare the\n",
    "efficiency of more sorting algorithms by testing them on randomly generated arrays.\n",
    "\n",
    "**Marks (max 5):** Questions 1-3: 1 each | Questions 4-7: 0.5 each"
   ]
  },
  {
   "cell_type": "markdown",
   "metadata": {},
   "source": [
    "## Question 1\n",
    "\n",
    "Write a Python function\n",
    "   \n",
    "    def timesOccursIn(k,A)\n",
    "    \n",
    "which which takes an integer and an array of integers and returns the number of times the\n",
    "integer occurs in the array. You must use recursion and no loops for this question.\n",
    "\n",
    "For example, if its arguments are `5` and `[1,2,5,3,6,5,3,5,5,4]` the function should return `4`.\n",
    "\n",
    "_Hint:_ Suppose `A` is not empty. If the first element of `A` is in fact `k`, the number of times that `k`\n",
    "occurs in `A` is “1 + the number of times it occurs in `A[1:]`”. Otherwise, it is the same as the\n",
    "number of times it occurs in `A[1:]`. On the other hand, if `A` is the empty array `[]` then `k`\n",
    "occurs 0 times in it."
   ]
  },
  {
   "cell_type": "code",
   "execution_count": 5,
   "metadata": {},
   "outputs": [
    {
     "name": "stdout",
     "output_type": "stream",
     "text": [
      "4\n"
     ]
    }
   ],
   "source": [
    "def timesOccursIn(k, A):\n",
    "    if A:\n",
    "        if A[0] == k:\n",
    "            return 1 + timesOccursIn(k, A[1:])\n",
    "        else:\n",
    "            return timesOccursIn(k, A[1:])\n",
    "    return 0\n",
    "\n",
    "print(timesOccursIn(5, [1,2,5,3,6,5,3,5,5,4]))"
   ]
  },
  {
   "cell_type": "markdown",
   "metadata": {},
   "source": [
    "## Question 2\n",
    "Write a Python function\n",
    "\n",
    "    def multArray(A,k)\n",
    "\n",
    "which takes an array `A` of integers and an integer `k` and changes `A` by multiplying each of\n",
    "its elements by `k`. You must use recursion and no loops for this question.\n",
    "For example, if it takes the array `[5,12,31,7,25]` and the integer `10`, it changes the \n",
    "array so that it becomes `[50,120,310,70,250]`.\n",
    "\n",
    "_Hint:_ The following “solution” will not work, as each recursive call creates a new copy of A\n",
    "so the original A is not changed.\n",
    "\n",
    "    def multAllNope(k,A):\n",
    "        if A == []: return\n",
    "        A[0] = A[0]*k\n",
    "        return multAllNope(k,A[1:])        \n",
    "Instead, the trick to do this is to define an auxiliary function `multAllRec(k,A,i)` which multiplies all elements of `A[i:]` by `k`. This function can then be defined with recursion."
   ]
  },
  {
   "cell_type": "code",
   "execution_count": 8,
   "metadata": {},
   "outputs": [
    {
     "data": {
      "text/plain": [
       "[50, 120, 310, 70, 250]"
      ]
     },
     "execution_count": 8,
     "metadata": {},
     "output_type": "execute_result"
    }
   ],
   "source": [
    "def multAllRec(k,A,i):\n",
    "    if i < len(A):\n",
    "        A[i] *= k\n",
    "        multAllRec(k,A,i+1)\n",
    "    return A\n",
    "\n",
    "def multArray(A, k):\n",
    "    return multAllRec(k, A, 0)\n",
    "\n",
    "\n",
    "multArray([5,12,31,7,25], 10)"
   ]
  },
  {
   "cell_type": "markdown",
   "metadata": {},
   "source": [
    "## Question 3\n",
    "\n",
    "Using recursion, write a Python function\n",
    "\n",
    "    def printArray(A)\n",
    "    \n",
    "that prints the elements of `A`, in order, one element per line.\n",
    "\n",
    "Now, using recursion, write a Python function\n",
    "\n",
    "    def printArrayRev(A)\n",
    "    \n",
    "that prints the elements of `A`, in reversed order, one element per line."
   ]
  },
  {
   "cell_type": "code",
   "execution_count": 4,
   "metadata": {},
   "outputs": [
    {
     "name": "stdout",
     "output_type": "stream",
     "text": [
      "3\n",
      "4\n",
      "4\n",
      "5\n",
      "6\n",
      "7\n",
      "8\n",
      "\n",
      "8\n",
      "7\n",
      "6\n",
      "5\n",
      "4\n",
      "4\n",
      "3\n"
     ]
    }
   ],
   "source": [
    "def printArray(A):\n",
    "    if A:\n",
    "        print(A[0])\n",
    "        printArray(A[1:])\n",
    "\n",
    "def printArrayRev(A):\n",
    "    if A:\n",
    "        print(A[-1])\n",
    "        printArrayRev(A[:-1])\n",
    "\n",
    "printArray('3445678')\n",
    "print()\n",
    "printArrayRev('3445678')"
   ]
  },
  {
   "cell_type": "markdown",
   "metadata": {},
   "source": [
    "## Question 4\n",
    "\n",
    "Using recursion, write a Python function\n",
    "\n",
    "    def binSearch2(A,k)\n",
    "    \n",
    "which searches for `k` in `A` using binary search (see Lecture 1)."
   ]
  },
  {
   "cell_type": "code",
   "execution_count": 28,
   "metadata": {},
   "outputs": [
    {
     "name": "stdout",
     "output_type": "stream",
     "text": [
      "6\n"
     ]
    }
   ],
   "source": [
    "def binSearch2(A,k):\n",
    "    low = 0\n",
    "    hi = len(A)\n",
    "\n",
    "    mid = (hi-low)//2\n",
    "    if k < A[mid]:\n",
    "        return binSearch2(A[:mid], k)\n",
    "    elif k > A[mid]:\n",
    "        return mid + binSearch2(A[mid:], k)\n",
    "    else:\n",
    "        return mid\n",
    "\n",
    "print(binSearch2([1,3,5,6,8,9,10], 10))"
   ]
  },
  {
   "cell_type": "markdown",
   "metadata": {},
   "source": [
    "## Question 5\n",
    "\n",
    "Using your solution to Question 5 from Lab 3, compare the four sorting functions we saw\n",
    "(selection, insertion, merge and quick sort) using random arrays and fill in the table below.\n",
    "For each array length, produce 5 random arrays to test the sorting functions and fill in the\n",
    "corresponding cell the average running time (in seconds) for each function. You can copy\n",
    "and paste the sorting code from the lecture slides.\n",
    "\n",
    "| array length |  10  | 100 | 1000 | 10<sup>4</sup> | 10<sup>5</sup> |\n",
    "|:------------|------|-----|------|-------|--------|\n",
    "| selection sort time (sec)|0.000009|0.000195|0.019405|1.895933|193.417168|                \n",
    "| insertion sort time (sec)|0.000007|0.000361|0.046045|4.578971|594.007344|                \n",
    "| merge sort time (sec)|0.000018|0.000170|0.002239|0.031668|0.882558|                \n",
    "| quicksort time (sec)|0.000010|0.000099|0.001588|0.016331|0.203968|                \n"
   ]
  },
  {
   "cell_type": "code",
   "execution_count": 5,
   "metadata": {},
   "outputs": [
    {
     "name": "stdout",
     "output_type": "stream",
     "text": [
      "=== n: 10^1\n",
      "Selection sort: 0.000010s\n",
      "Insertion sort: 0.000008s\n",
      "Merge sort: 0.000021s\n",
      "Quick sort: 0.000010s\n",
      "=== n: 10^2\n",
      "Selection sort: 0.000197s\n",
      "Insertion sort: 0.000398s\n",
      "Merge sort: 0.000175s\n",
      "Quick sort: 0.000102s\n",
      "=== n: 10^3\n",
      "Selection sort: 0.019513s\n",
      "Insertion sort: 0.044557s\n",
      "Merge sort: 0.002272s\n",
      "Quick sort: 0.001476s\n",
      "=== n: 10^4\n",
      "Selection sort: 1.921985s\n",
      "Insertion sort: 4.771248s\n",
      "Merge sort: 0.030782s\n",
      "Quick sort: 0.016674s\n",
      "=== n: 10^5\n"
     ]
    },
    {
     "ename": "KeyboardInterrupt",
     "evalue": "",
     "output_type": "error",
     "traceback": [
      "\u001b[1;31m---------------------------------------------------------------------------\u001b[0m",
      "\u001b[1;31mKeyboardInterrupt\u001b[0m                         Traceback (most recent call last)",
      "Cell \u001b[1;32mIn [5], line 106\u001b[0m\n\u001b[0;32m    104\u001b[0m \u001b[39mfor\u001b[39;00m i \u001b[39min\u001b[39;00m \u001b[39mrange\u001b[39m(\u001b[39m1\u001b[39m, \u001b[39m6\u001b[39m):\n\u001b[0;32m    105\u001b[0m     \u001b[39mprint\u001b[39m(\u001b[39mf\u001b[39m\u001b[39m'\u001b[39m\u001b[39m=== n: 10^\u001b[39m\u001b[39m{\u001b[39;00mi\u001b[39m}\u001b[39;00m\u001b[39m'\u001b[39m)\n\u001b[1;32m--> 106\u001b[0m     test(\u001b[39m10\u001b[39m\u001b[39m*\u001b[39m\u001b[39m*\u001b[39mi)\n",
      "Cell \u001b[1;32mIn [5], line 89\u001b[0m, in \u001b[0;36mtest\u001b[1;34m(size)\u001b[0m\n\u001b[0;32m     86\u001b[0m arr \u001b[39m=\u001b[39m [randint(\u001b[39m0\u001b[39m, size) \u001b[39mfor\u001b[39;00m i \u001b[39min\u001b[39;00m \u001b[39mrange\u001b[39m(size)]\n\u001b[0;32m     88\u001b[0m \u001b[39m#print(f'Unsorted: {arr}')\u001b[39;00m\n\u001b[1;32m---> 89\u001b[0m sel \u001b[39m=\u001b[39m measure(arr, selection_sort)\n\u001b[0;32m     90\u001b[0m \u001b[39m#print(f'Sorted: {sel[1]}')\u001b[39;00m\n\u001b[0;32m     91\u001b[0m \u001b[39mprint\u001b[39m(\u001b[39mf\u001b[39m\u001b[39m'\u001b[39m\u001b[39mSelection sort: \u001b[39m\u001b[39m{\u001b[39;00msel[\u001b[39m0\u001b[39m]\u001b[39m:\u001b[39;00m\u001b[39m.6f\u001b[39m\u001b[39m}\u001b[39;00m\u001b[39ms\u001b[39m\u001b[39m'\u001b[39m)\n",
      "Cell \u001b[1;32mIn [5], line 6\u001b[0m, in \u001b[0;36mmeasure\u001b[1;34m(arr, func)\u001b[0m\n\u001b[0;32m      4\u001b[0m \u001b[39mdef\u001b[39;00m \u001b[39mmeasure\u001b[39m(arr, func):\n\u001b[0;32m      5\u001b[0m     start \u001b[39m=\u001b[39m time\u001b[39m.\u001b[39mperf_counter()\n\u001b[1;32m----> 6\u001b[0m     result \u001b[39m=\u001b[39m func(arr)\n\u001b[0;32m      7\u001b[0m     \u001b[39mreturn\u001b[39;00m time\u001b[39m.\u001b[39mperf_counter() \u001b[39m-\u001b[39m start, result\n",
      "Cell \u001b[1;32mIn [5], line 14\u001b[0m, in \u001b[0;36mselection_sort\u001b[1;34m(arr)\u001b[0m\n\u001b[0;32m     12\u001b[0m smallest \u001b[39m=\u001b[39m i\n\u001b[0;32m     13\u001b[0m \u001b[39mfor\u001b[39;00m j \u001b[39min\u001b[39;00m \u001b[39mrange\u001b[39m(i, \u001b[39mlen\u001b[39m(brr)):\n\u001b[1;32m---> 14\u001b[0m     \u001b[39mif\u001b[39;00m brr[j] \u001b[39m<\u001b[39m brr[smallest]:\n\u001b[0;32m     15\u001b[0m         smallest \u001b[39m=\u001b[39m j\n\u001b[0;32m     16\u001b[0m temp \u001b[39m=\u001b[39m brr\u001b[39m.\u001b[39mpop(smallest)\n",
      "\u001b[1;31mKeyboardInterrupt\u001b[0m: "
     ]
    }
   ],
   "source": [
    "import time\n",
    "from random import randint\n",
    "\n",
    "def measure(arr, func):\n",
    "    start = time.perf_counter()\n",
    "    result = func(arr)\n",
    "    return time.perf_counter() - start, result\n",
    "\n",
    "def selection_sort(arr):\n",
    "    brr = arr[:]\n",
    "    for i in range(len(brr)):\n",
    "        smallest = i\n",
    "        for j in range(i, len(brr)):\n",
    "            if brr[j] < brr[smallest]:\n",
    "                smallest = j\n",
    "        temp = brr.pop(smallest)\n",
    "        brr.insert(i, temp)\n",
    "    return brr\n",
    "\n",
    "def insertion_sort(arr):\n",
    "    brr = arr[:]\n",
    "    for i in range(1, len(brr)):\n",
    "        for j in range(i, 0, -1):\n",
    "            if brr[j-1] > brr[j]:\n",
    "                temp = brr[j-1]\n",
    "                brr[j-1] = brr[j]\n",
    "                brr[j] = temp\n",
    "    return brr\n",
    "\n",
    "def __merge_sort_aux(arr):\n",
    "    if len(arr) <= 1:  # Base case\n",
    "        return arr\n",
    "\n",
    "    # Divide\n",
    "    mid = len(arr)//2\n",
    "    l, r = arr[:mid], arr[mid:]\n",
    "    l, r = merge_sort(l), merge_sort(r)\n",
    "    \n",
    "    # Conquer\n",
    "    result = []\n",
    "    while l and r:\n",
    "        if l[0] <= r[0]:\n",
    "            result.append(l[0])\n",
    "            l.pop(0)\n",
    "        else:\n",
    "            result.append(r[0])\n",
    "            r.pop(0)\n",
    "\n",
    "    result += l + r\n",
    "    return result\n",
    "\n",
    "def merge_sort(arr):\n",
    "    return __merge_sort_aux(arr[:])\n",
    "\n",
    "def __quick_sort_aux(arr):\n",
    "    if len(arr) <= 1:\n",
    "        return arr\n",
    "\n",
    "    pivot = arr[-1]\n",
    "    i = -1\n",
    "\n",
    "    for j in range(len(arr)-1):\n",
    "        if arr[j] <= pivot:\n",
    "            i += 1\n",
    "            temp = arr[i]\n",
    "            arr[i] = arr[j]\n",
    "            arr[j] = temp\n",
    "    \n",
    "    i += 1\n",
    "    temp = arr[i]\n",
    "    arr[i] = arr[-1]\n",
    "    arr[-1] = temp\n",
    "\n",
    "    l = __quick_sort_aux(arr[:i])\n",
    "    l.append(pivot)\n",
    "    r = __quick_sort_aux(arr[i+1:])\n",
    "    arr = l + r\n",
    "\n",
    "    return arr\n",
    "\n",
    "def quick_sort(arr):\n",
    "    return __quick_sort_aux(arr[:])\n",
    "\n",
    "\n",
    "def test(size):\n",
    "    arr = [randint(0, size) for i in range(size)]\n",
    "\n",
    "    #print(f'Unsorted: {arr}')\n",
    "    sel = measure(arr, selection_sort)\n",
    "    #print(f'Sorted: {sel[1]}')\n",
    "    print(f'Selection sort: {sel[0]:.6f}s')\n",
    "    ins = measure(arr, insertion_sort)\n",
    "    #print(f'Sorted: {ins[1]}')\n",
    "    print(f'Insertion sort: {ins[0]:.6f}s')\n",
    "    mer = measure(arr, merge_sort)\n",
    "    #print(f'Sorted: {mer[1]}')\n",
    "    print(f'Merge sort: {mer[0]:.6f}s')\n",
    "    #print(mer[1] == sel[1])\n",
    "    qui = measure(arr, quick_sort)\n",
    "    #print(f'Sorted: {qui[1]}')\n",
    "    print(f'Quick sort: {qui[0]:.6f}s')\n",
    "    #print(qui[1] == sel[1])\n",
    "\n",
    "for i in range(1, 6):\n",
    "    print(f'=== n: 10^{i}')\n",
    "    test(10**i)"
   ]
  },
  {
   "cell_type": "markdown",
   "metadata": {},
   "source": [
    "## Question 6\n",
    "\n",
    "Consider this `Script` class:\n",
    "    \n",
    "    class Script:\n",
    "        def __init__(self, sid, mark):\n",
    "            self.sid = sid\n",
    "            self.mark = mark\n",
    "        \n",
    "        def __str__(self):\n",
    "            return \"Script\"+str((self.sid,self.mark))    \n",
    "\n",
    "Using recursion, write a Python function\n",
    "\n",
    "    def filter(A,f)\n",
    "    \n",
    "which takes an array `A` of `Script` objects and a function `f` that takes a `Script` as input and returns a boolean. We call such a function a _filter_ as it allows us to filter `A` as follows. `filter(A,f)` should return a new array of `Script`'s\n",
    "which consists of those `Script`'s in `A` who \"pass\" the filter `f`, that is, when `f` is applied to those `Script`'s it returns `True`. The order of elements in the new array should be the same as in `A` (excluding filtered-out elements).\n",
    "\n",
    "For example, the following code (see also Question 3)\n",
    "\n",
    "    def passes(s):\n",
    "        return s.mark>=40\n",
    "\n",
    "    A = [Script(0,0), Script(1000,57), Script(2000,63), Script(3000,34), Script(4000,79), Script(5000,22), Script(6000,17), Script(7000,40), Script(8000,39), Script(9000,96)]\n",
    "    printArray(filter(A,passes))\n",
    "\n",
    "should return\n",
    "\n",
    "    Script(1000, 57)\n",
    "    Script(2000, 63)\n",
    "    Script(4000, 79)\n",
    "    Script(7000, 40)\n",
    "    Script(9000, 96)\n",
    "\n",
    "You can use the `append` method we defined in earlier weeks (even if not recursive)."
   ]
  },
  {
   "cell_type": "code",
   "execution_count": 49,
   "metadata": {},
   "outputs": [
    {
     "name": "stdout",
     "output_type": "stream",
     "text": [
      "Script(1000, 57)\n",
      "Script(2000, 63)\n",
      "Script(4000, 79)\n",
      "Script(7000, 40)\n",
      "Script(9000, 96)\n"
     ]
    }
   ],
   "source": [
    "class Script:\n",
    "    def __init__(self, sid, mark):\n",
    "        self.sid = sid\n",
    "        self.mark = mark\n",
    "    \n",
    "    def __str__(self):\n",
    "        return f\"Script{(self.sid, self.mark)}\"\n",
    "\n",
    "def passes(s):\n",
    "    return s.mark >= 40\n",
    "\n",
    "def filter(A, f):\n",
    "    if not A:\n",
    "        return []\n",
    "\n",
    "    a = [A[0]] if f(A[0]) else []\n",
    "    a += filter(A[1:], f)\n",
    "    return a\n",
    "\n",
    "A = [Script(0,0), Script(1000,57), Script(2000,63), Script(3000,34), Script(4000,79), Script(5000,22), Script(6000,17), Script(7000,40), Script(8000,39), Script(9000,96)]\n",
    "A = filter(A,passes)\n",
    "for s in A:\n",
    "    print(s)\n"
   ]
  },
  {
   "cell_type": "markdown",
   "metadata": {},
   "source": [
    "## Question 7\n",
    "\n",
    "Write a Python function\n",
    "\n",
    "    def isSubArray(A,B)\n",
    "    \n",
    "which takes two arrays and returns `True` if the first array is a (contiguous) subarray of the\n",
    "second array, otherwise it returns `False`. You may solve this problem using recursion or\n",
    "iteration or a mixture of recursion and iteration.\n",
    "\n",
    "For an array to be a subarray of another, it must occur entirely within the other one without\n",
    "other elements in between. For example:\n",
    "- `[31,7,25]` is a subarray of `[10,20,26,31,7,25,40,9]`\n",
    "- `[26,31,25,40]` is not a subarray of `[10,20,26,31,7,25,40,9]`\n",
    "\n",
    "_Hint_: A good way of solving this problem is to make use of an auxiliary function that takes\n",
    "two arrays and returns True if the contents of the first array occur at the front of the second\n",
    "array, otherwise it returns False. Then, A is a subarray of B if it occurs at the front of B, or at the front of B[1:], or at the front of B[2:], etc. Note you should not use A == B for arrays."
   ]
  },
  {
   "cell_type": "code",
   "execution_count": 2,
   "metadata": {},
   "outputs": [
    {
     "name": "stdout",
     "output_type": "stream",
     "text": [
      "True\n",
      "False\n",
      "True\n",
      "False\n"
     ]
    }
   ],
   "source": [
    "def isSubArray(A, B):\n",
    "    len_a, len_b = len(A), len(B)\n",
    "    if len_a == 0 or len_b == 0 or len_a > len_b:\n",
    "        return False\n",
    "\n",
    "    head = 0\n",
    "    for e in B:\n",
    "        if A[head] == e:\n",
    "            head += 1\n",
    "            if head == len(A):\n",
    "                return True\n",
    "        else:\n",
    "            head = 0\n",
    "    return False\n",
    "\n",
    "print(isSubArray([31,7,25], [10,20,26,31,7,25,40,9]))\n",
    "print(isSubArray([26,31,25,40], [10,20,26,31,7,25,40,9]))\n",
    "print(isSubArray([26,27], [10,20,26,31,7,26,27,9]))\n",
    "print(isSubArray([], [3]))"
   ]
  }
 ],
 "metadata": {
  "kernelspec": {
   "display_name": "Python 3.9.10 64-bit",
   "language": "python",
   "name": "python3"
  },
  "language_info": {
   "codemirror_mode": {
    "name": "ipython",
    "version": 3
   },
   "file_extension": ".py",
   "mimetype": "text/x-python",
   "name": "python",
   "nbconvert_exporter": "python",
   "pygments_lexer": "ipython3",
   "version": "3.9.10"
  },
  "vscode": {
   "interpreter": {
    "hash": "1b0895c66568e73e276bb893c04a8073c05e6253df2b08ce8ed4f518d02d13f8"
   }
  }
 },
 "nbformat": 4,
 "nbformat_minor": 2
}
