{
 "cells": [
  {
   "cell_type": "markdown",
   "metadata": {},
   "source": [
    "# ECS529U Algorithms and Data Structures                  \n",
    "# Lab sheet 10\n",
    "\n",
    "This lab gets you to work with dynamic programming algorithms and also practically \n",
    "compare their efficiency by testing them on randomly generated inputs. \n",
    "\n",
    "**Marks (max 5):**  Questions 1-4: 1 each  |  Questions 5,6: 0.5 each"
   ]
  },
  {
   "cell_type": "markdown",
   "metadata": {},
   "source": [
    "## Question 1\n",
    "\n",
    "We define the Thribonacci sequence of numbers by the following function _thrib_:\n",
    "\n",
    "- _thrib_(0) = 1\n",
    "- _thrib_(1) = 1\n",
    "- _thrib_(2) = 1\n",
    "- _thrib_(n) = _thrib_(n-1) + 2 _thrib_(n-2) + 3 _thrib_(n-3) ,  if n > 2\n",
    "\n",
    "Write a recursive Python function \n",
    "\n",
    "    def thrib(n)\n",
    "    \n",
    "that, on input `n`, returns _thrib_(`n`). \n",
    "\n",
    "Then, change your function into a dynamic programming one: \n",
    "\n",
    "    def thribDP(n)\n",
    "\n",
    "using memoisation."
   ]
  },
  {
   "cell_type": "code",
   "execution_count": 14,
   "metadata": {},
   "outputs": [
    {
     "data": {
      "text/plain": [
       "(26, 26)"
      ]
     },
     "execution_count": 14,
     "metadata": {},
     "output_type": "execute_result"
    }
   ],
   "source": [
    "def thrib(n):\n",
    "    if n <= 2:\n",
    "        return 1\n",
    "    return thrib(n-1) + 2*thrib(n-2) + 3*thrib(n-3)\n",
    "\n",
    "def thribDP(n):\n",
    "    memo = {}\n",
    "    def thribMem(n, memo):\n",
    "        if n in memo:\n",
    "            return memo[n]\n",
    "        if n <= 2:\n",
    "            memo[n] = 1\n",
    "        else:\n",
    "            memo[n] = thribMem(n-1,memo)+ 2*thribMem(n-2,memo) + 3*thribMem(n-3,memo)\n",
    "        return memo[n]\n",
    "    return thribMem(n,memo)\n",
    "\n",
    "thribDP(5), thrib(5)"
   ]
  },
  {
   "cell_type": "markdown",
   "metadata": {},
   "source": [
    "## Question 2\n",
    "\n",
    "Change your DP function from Question 1 into a dynamic programming bottom-up one:\n",
    "\n",
    "    def thribDPBU(n)\n",
    "\n",
    "using iteration"
   ]
  },
  {
   "cell_type": "code",
   "execution_count": 15,
   "metadata": {},
   "outputs": [
    {
     "data": {
      "text/plain": [
       "26"
      ]
     },
     "execution_count": 15,
     "metadata": {},
     "output_type": "execute_result"
    }
   ],
   "source": [
    "def thribDPBU(n):\n",
    "    memo = {}\n",
    "    memo[0] = 1\n",
    "    memo[1] = 1\n",
    "    memo[2] = 1\n",
    "    for i in range(3,n+1):\n",
    "        memo[i] = memo[i-1]+ 2*memo[i-2] + 3*memo[i-3]\n",
    "    return memo[n]\n",
    "\n",
    "thribDPBU(5)"
   ]
  },
  {
   "attachments": {},
   "cell_type": "markdown",
   "metadata": {},
   "source": [
    "# Question 3\n",
    "\n",
    "Write Python functions:\n",
    "\n",
    "    def coinSplitTime(n)\n",
    "    def coinSplitDPTime(n)\n",
    "    def coinSplitDPBUTime(n)\n",
    "    \n",
    "that run `coinSplit(n)`, `coinSplitDP(n)` and `coinSplitDPBU(n)` respectively on input `n` \n",
    "and return the time taken for each of them to return. \n",
    "\n",
    "Test your timing functions on values 10, 100, 1000, 10000 for `n` and fill in the next table. \n",
    "\n",
    "Use these two choices for `coin`:\n",
    "\n",
    "1. `coin1 = [200, 100, 50, 20, 5, 2, 1]`            \n",
    "2. `coin2 = [200, 199, 198, ..., 3, 2, 1]`\n",
    "\n",
    "To avoid waiting forever, if a run takes more than e.g. 15 seconds then kill it and fill in \"timeout\" in the table. \n",
    "\n",
    "| value n/ coin array  |  10/ coin1 | 100/ coin1 | 1000/ coin1 | 10000/ coin1 | 10/ coin2 | 100/ coin2 | 1000/ coin2 | 10000/ coin2 |\n",
    "|:------------|------|-----|------|-------|--------|--------|--------|--------|\n",
    "| coinSplit time (sec)|8.7e-6 |0.0005     |      |       |9.23e-5     | |||               \n",
    "| coinSplitDP time (sec)|1.63e-5|0.0001296|0.0018602|**RecursionError**|0.0005516|0.003189|0.1242399|**RecursionError**|\n",
    "| coinSplitDPBU time (sec)|2.79e-05|0.00024|0.00309|0.0388|0.001107|0.00646|0.125|1.4709|                "
   ]
  },
  {
   "cell_type": "code",
   "execution_count": 1,
   "metadata": {},
   "outputs": [
    {
     "name": "stdout",
     "output_type": "stream",
     "text": [
      "10 coin1 5.510000000019666e-05\n",
      "10 coin2 0.0010481999999998326\n",
      "100 coin1 0.00024380000000001623\n",
      "100 coin2 0.0065830000000000055\n",
      "1000 coin1 0.003136099999999864\n",
      "1000 coin2 0.11525370000000001\n",
      "10000 coin1 0.03662019999999999\n",
      "10000 coin2 1.4703865999999999\n"
     ]
    }
   ],
   "source": [
    "import time\n",
    "\n",
    "coin1 = [200, 100, 50, 20, 5, 2, 1]\n",
    "coin2 = list(range(200, 0, -1))\n",
    "\n",
    "def coinSplit(m, coin):\n",
    "    return coinSplitRec(m,0, coin)\n",
    "def coinSplitRec(m, lo, coin):\n",
    "    if m == 0:\n",
    "        return 0\n",
    "    if lo == len(coin)-1:\n",
    "        return m\n",
    "    withoutIt = coinSplitRec(m,lo+1, coin)\n",
    "    if coin[lo] <= m:\n",
    "        withIt = 1 + coinSplitRec(m-coin[lo],lo, coin)\n",
    "        if withIt < withoutIt:\n",
    "            return withIt\n",
    "    return withoutIt\n",
    "def coinSplitTime(m, coin):\n",
    "    start = time.perf_counter()\n",
    "    coinSplit(m, coin)\n",
    "    return time.perf_counter() - start\n",
    "\n",
    "def coinSplitDP(m, coin):\n",
    "    memo = {}\n",
    "    return coinSplitMem(m,0,memo, coin)\n",
    "def coinSplitMem(m, lo, memo, coin):\n",
    "    if (m,lo) in memo:\n",
    "        return memo[m,lo]\n",
    "    if m == 0:\n",
    "        memo[m,lo] = 0\n",
    "    elif lo == len(coin)-1:\n",
    "        memo[m,lo] = m\n",
    "    else:\n",
    "        withoutIt = coinSplitMem(m,lo+1,memo, coin)\n",
    "        memo[m,lo] = withoutIt\n",
    "        if coin[lo] <= m:\n",
    "            withIt = 1 + coinSplitMem(m-coin[lo],lo,memo, coin)\n",
    "            if withIt < withoutIt:\n",
    "                memo[m,lo] = withIt\n",
    "    return memo[m,lo]\n",
    "def coinSplitDPTime(m, coin):\n",
    "    start = time.perf_counter()\n",
    "    coinSplitDP(m, coin)\n",
    "    return time.perf_counter() - start\n",
    "\n",
    "def coinSplitDPBU(mInit, coin):\n",
    " memo = {}\n",
    " for i in range(len(coin)):\n",
    "    memo[0,i] = 0\n",
    " for m in range(mInit+1):\n",
    "    memo[m,len(coin)-1] = m\n",
    " for m in range(1,mInit+1):\n",
    "    for lo in range(len(coin)-2,-1,-1):\n",
    "        withoutIt = memo[m,lo+1]\n",
    "        memo[m,lo] = withoutIt\n",
    "        if coin[lo] <= m:\n",
    "            withIt = 1 + memo[m-coin[lo],lo]\n",
    "            if withIt < withoutIt:\n",
    "                memo[m,lo] = withIt\n",
    " return memo[mInit,0]\n",
    "def coinSplitDPBUTime(m, coin):\n",
    "    start = time.perf_counter()\n",
    "    coinSplitDPBU(m, coin)\n",
    "    return time.perf_counter() - start\n",
    "\n",
    "\n",
    "for i in range(1, 5):\n",
    "    n = 10**i\n",
    "    # print(n, 'coin1', coinSplitTime(n, coin1))\n",
    "    # print(n, 'coin2', coinSplitTime(n, coin2))\n",
    "    # print(n, 'coin1', coinSplitDP(n, coin1))\n",
    "    # print(n, 'coin2', coinSplitDP(n, coin2))\n",
    "    print(n, 'coin1', coinSplitDPBUTime(n, coin1))\n",
    "    print(n, 'coin2', coinSplitDPBUTime(n, coin2))"
   ]
  },
  {
   "cell_type": "markdown",
   "metadata": {},
   "source": [
    "# Question 4\n",
    "\n",
    "Using dynamic programming, write a Python function:\n",
    "\n",
    "    def maxBooksValDP2(w, bkWeight, bkVal)\n",
    "\n",
    "that answers Question 6 of Lecture 10 – see the slides for the corresponding specification."
   ]
  },
  {
   "cell_type": "code",
   "execution_count": 38,
   "metadata": {},
   "outputs": [
    {
     "data": {
      "text/plain": [
       "(15, [5, 4, 3, 2, 1])"
      ]
     },
     "execution_count": 38,
     "metadata": {},
     "output_type": "execute_result"
    }
   ],
   "source": [
    "bkWeight = [3, 3, 3, 4, 5]\n",
    "bkVal = [1, 2, 3, 4, 5]\n",
    "\n",
    "def maxBooksVal(w):\n",
    "    memo = {}\n",
    "    return maxBooksRec(w,0, memo, [])\n",
    "def maxBooksRec(w, lo, memo, bag):\n",
    "    if (w, lo) in memo:\n",
    "        return memo[w, lo], bag\n",
    "    if w == 0:\n",
    "        memo[w, lo] = 0\n",
    "    elif lo == len(bkWeight) or w < bkWeight[lo]:\n",
    "        return 0, bag\n",
    "    else:\n",
    "        withIt = bkVal[lo]+maxBooksRec(w-bkWeight[lo], lo+1, memo, bag)[0]\n",
    "        withoutIt = maxBooksRec(w, lo+1, memo, bag)[0]\n",
    "        if withIt > withoutIt:\n",
    "            if bkVal[lo] not in bag:\n",
    "                bag += [bkVal[lo]]\n",
    "            return withIt, bag\n",
    "        return withoutIt, bag\n",
    "    return memo[w, lo], bag\n",
    "\n",
    "maxBooksVal(550)\n"
   ]
  },
  {
   "cell_type": "markdown",
   "metadata": {},
   "source": [
    "# Question 5\n",
    "\n",
    "Write a Python function: \n",
    "\n",
    "    def closestSubset(s,A)\n",
    "\n",
    "that takes an integer `s` and an array of positive integers `A` and returns an array consisting \n",
    "of elements of `A` which add up to `s`. If there is no subset that adds up to `s`, the function \n",
    "should instead return the subset which adds up to the value closest to `s`. \n",
    "\n",
    "For example: \n",
    "\n",
    "- if `A` is `[12, 79, 99, 91, 81, 47]` and `s` is `150`, it will return `[12, 91, 47]` as 12+91+47 is 150\n",
    "- if `A` is `[15, 79, 99, 6, 69, 82, 32]` and `s` is `150` it will return `[69, 82]` as 69+82 is 151, and \n",
    "there is no subset of `A` whose sum is 150.\n",
    "\n",
    "Test the method with arrays generated by `randomIntArray(s,n)` from Lab 3. Try with:\n",
    "\n",
    "    A = randomIntArray(20,1000)\n",
    "    subset = closestSubset(5000,A)\n",
    "\n",
    "_Hint_: You can use a naive recursive solution for this problem. That is, to find the closest \n",
    "subset adding to `s` starting from position `i`, your algorithm should compare the best \n",
    "solution that includes `A[i]` with the best solution that does not include `A[i]`, and so on.\n",
    "Such an algorithm is O(2<sup>n</sup>), with n the length of `A`, so it will take a significant amount of time\n",
    "to process an array of length 20, and get overwhelmed for arrays much longer than that."
   ]
  },
  {
   "cell_type": "code",
   "execution_count": 78,
   "metadata": {},
   "outputs": [
    {
     "data": {
      "text/plain": [
       "((5138, [695, 701, 801, 248, 646, 276, 129, 273, 989, 380]), 5138)"
      ]
     },
     "execution_count": 78,
     "metadata": {},
     "output_type": "execute_result"
    }
   ],
   "source": [
    "import random\n",
    "a = [random.randint(0, 1000) for _ in range(20)]\n",
    "\n",
    "def closestSubset(w):\n",
    "    return rec(w,0, [])\n",
    "def rec(w,lo, l):\n",
    "    if lo == len(a):\n",
    "        return 0, l\n",
    "    withIt = a[lo]+rec(w-a[lo],lo+1, l)[0]\n",
    "    withoutIt = rec(w,lo+1, l)[0]\n",
    "    if abs(5000-withIt) < abs(5000-withoutIt):\n",
    "        if a[lo] not in l:\n",
    "            l.append(a[lo])\n",
    "        return withIt, l \n",
    "    return withoutIt, l\n",
    "\n",
    "\n",
    "x = maxBooksVal(5000)\n",
    "x, sum(x[1])"
   ]
  },
  {
   "cell_type": "markdown",
   "metadata": {},
   "source": [
    "# Question 6\n",
    "\n",
    "Using dynamic programming, write a Python function: \n",
    "\n",
    "    def closestSubsetDP(s,A)\n",
    "\n",
    "that solves the same problem as Question 5 (but using dynamic programming this time). \n",
    "Test your function with random arrays as above. Does this version run faster than the \n",
    "simple recursive one?"
   ]
  },
  {
   "cell_type": "code",
   "execution_count": 80,
   "metadata": {},
   "outputs": [
    {
     "data": {
      "text/plain": [
       "((5012, [735, 182, 869, 685, 473, 397, 641, 681, 320, 29]), 5012)"
      ]
     },
     "execution_count": 80,
     "metadata": {},
     "output_type": "execute_result"
    }
   ],
   "source": [
    "import random\n",
    "a = [random.randint(0, 1000) for _ in range(20)]\n",
    "\n",
    "def closestSubset(w):\n",
    "    memo = {}\n",
    "    return rec(w,0, [], memo)\n",
    "def rec(w,lo, l, m):\n",
    "    if (w, lo) in m:\n",
    "        return m[w, lo]\n",
    "    if lo == len(a):\n",
    "        return 0, l\n",
    "    withIt = a[lo]+rec(w-a[lo],lo+1, l, m)[0]\n",
    "    if withIt not in memo:\n",
    "        memo[w, lo] = withIt\n",
    "    withoutIt = rec(w,lo+1, l, m)[0]\n",
    "    if abs(5000-withIt) < abs(5000-withoutIt):\n",
    "        if a[lo] not in l:\n",
    "            l.append(a[lo])\n",
    "        return withIt, l \n",
    "    return withoutIt, l\n",
    "\n",
    "\n",
    "x = maxBooksVal(5000)\n",
    "x, sum(x[1])"
   ]
  }
 ],
 "metadata": {
  "kernelspec": {
   "display_name": "Python 3",
   "language": "python",
   "name": "python3"
  },
  "language_info": {
   "codemirror_mode": {
    "name": "ipython",
    "version": 3
   },
   "file_extension": ".py",
   "mimetype": "text/x-python",
   "name": "python",
   "nbconvert_exporter": "python",
   "pygments_lexer": "ipython3",
   "version": "3.9.10 (tags/v3.9.10:f2f3f53, Jan 17 2022, 15:14:21) [MSC v.1929 64 bit (AMD64)]"
  },
  "vscode": {
   "interpreter": {
    "hash": "1b0895c66568e73e276bb893c04a8073c05e6253df2b08ce8ed4f518d02d13f8"
   }
  }
 },
 "nbformat": 4,
 "nbformat_minor": 2
}
