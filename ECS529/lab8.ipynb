{
 "cells": [
  {
   "cell_type": "markdown",
   "metadata": {},
   "source": [
    "# ECS529U Algorithms and Data Structures\n",
    "# Lab sheet 8\n",
    "\n",
    "This lab gets you to work with AVL trees and heaps.\n",
    "\n",
    "**Marks (max 5):**  Questions 1,5,7: 1 each | Questions 2-4,6: 0.5 each"
   ]
  },
  {
   "cell_type": "markdown",
   "metadata": {},
   "source": [
    "## Question 0 [no marks]\n",
    "\n",
    "In some of the following questions you will be asked to provide an answer which depends on the following numbers. Please calculate the numbers and array below:\n",
    "\n",
    "- `SID`: this is your QMUL student number. It should be a 9-digit number.\n",
    "- `SID2`: this is `SID` squared. It should be a 17-digit number.\n",
    "- $u_0$, $u_1$, $u_2$, $u_3$, $u_4$, $u_5$, $u_6$, $u_7$, $u_8$, $u_{9}$: these are the first 10 __unique__ digits  (between 0 and 9) in the sequence `SID2`, from left to right. If there are less than 10 unique\n",
    "digits in your `SID2`, you should fill in your sequence of $u$'s\n",
    "with the remaining digits in increasing order. \n",
    "In the end, your sequence\n",
    "$u_0, u_1, \\dots, u_9$\n",
    "should\n",
    "contain all digits between 0 and 9 (in some order).\n",
    "\n",
    "Let `U` be the array [$u_0, u_1, u_2, u_3, u_4, u_5, u_6, u_7, u_8, u_{9}$]. __Write down the array `U`.__\n",
    "\n",
    "For example, if your student ID is 200435842, then its square is 40174526758248964.\n",
    "This gives us the following unique digits, from left to right:\n",
    "\n",
    "    4,0,1,7,5,2,6,8,9\n",
    "    \n",
    "To get the sequence of $u$'s we simply need to fill in the number 3 at the end. Thus:\n",
    "\n",
    "    U = [4,0,1,7,5,2,6,8,9,3]"
   ]
  },
  {
   "cell_type": "code",
   "execution_count": 5,
   "metadata": {},
   "outputs": [],
   "source": [
    "SID = 210515439\n",
    "SID2 = SID*SID\n",
    "U = [4,3,1,6,7,5,0,2,1,8,9]"
   ]
  },
  {
   "cell_type": "markdown",
   "metadata": {},
   "source": [
    "## Question 1\n",
    "\n",
    "This question is about understanding heaps. Consider the array `A` calculated as follows:\n",
    "\n",
    "    N = [4, 3, 12, 54, 22, 13, 54, 22, 0, 23]\n",
    "    A = [N[U[i]] for i in range(len(N))]\n",
    "\n",
    "a) Draw the heap we obtain if we start from the empty heap and add consecutively the numbers of the array `A`, starting from `A[0]`.\n",
    "\n",
    "![](lab8-1a.png)\n",
    "\n",
    "b) Draw the heap we obtain if we remove its root, using the technique followed by the `removeRoot` function that we saw in the lecture (week 8).\n",
    "![](lab8-1b.png)"
   ]
  },
  {
   "cell_type": "code",
   "execution_count": 6,
   "metadata": {},
   "outputs": [
    {
     "name": "stdout",
     "output_type": "stream",
     "text": [
      "[22, 54, 3, 54, 22, 13, 4, 12, 3, 0]\n"
     ]
    }
   ],
   "source": [
    "N = [4, 3, 12, 54, 22, 13, 54, 22, 0, 23]\n",
    "print([N[U[i]] for i in range(len(N))])"
   ]
  },
  {
   "cell_type": "markdown",
   "metadata": {},
   "source": [
    "## Question 2\n",
    "\n",
    "Add in `Heap` the following functions, assuming that we work with heaps that store integers:\n",
    "\n",
    "a) `def max(self)`\n",
    "\n",
    "that returns the largest element of the heap. If the heap is empty, the function should return `None`.\n",
    "\n",
    "b) `def addAll(self, A)`\n",
    "\n",
    "that adds to the heap all elements of the array `A`.\n",
    "\n",
    "c) `def _search(self,d)`\n",
    "\n",
    "that returns the position of the first occurrence of `d` in the heap (in its array list representation). If `d` is not in the heap, the function should return `-1`."
   ]
  },
  {
   "cell_type": "markdown",
   "metadata": {},
   "source": [
    "## Question 3\n",
    "\n",
    "Add in `Heap` a function \n",
    "\n",
    "    def _remove(self,i)\n",
    "\n",
    "that removes from the heap the element in position `i`. \n",
    "\n",
    "Then, using `_remove` and the function `_search` from Question 2, define a function \n",
    "\n",
    "    def removeVal(self, d)\n",
    "    \n",
    "that removes the first occurrence of `d` from the heap, and leaves the heap unchanged if `d` is not in it.\n",
    "\n",
    "**Hint:** The difficult part with `_remove` is to make sure that, after removal, your tree remains a heap. Using the technique of `removeRoot` alone will not be enough!"
   ]
  },
  {
   "cell_type": "markdown",
   "metadata": {},
   "source": [
    "## Question 4\n",
    "\n",
    "Add in `Heap` the following functions\n",
    "\n",
    "a) `def clone(self)`\n",
    "\n",
    "that returns a new heap that is a copy of the current heap (i.e. the one represented by `self`). The two heaps should be independent.\n",
    "\n",
    "b) `def toSortedArray(self)`\n",
    "\n",
    "that returns a sorted array containing the elements of the heap. The heap should not be changed.\n",
    "\n",
    "For example, if the heap `h` is represented by the list `[50, 50, 42, 12, 6, 9, 5, 1, 4, 6, 5, 8]` then `h.toSortedArray` should return the array `[1, 4, 5, 5, 6, 6, 8, 12, 42, 42, 50, 50]`. "
   ]
  },
  {
   "cell_type": "markdown",
   "metadata": {},
   "source": [
    "## Question 5\n",
    "\n",
    "This question is about understanding AVL trees. Consider the array `A` calculated as follows:\n",
    "\n",
    "    N = [4, 3, 12, 54, 22, 13, 1, 21, 0, 23]\n",
    "    A = [N[U[i]] for i in range(len(N))]"
   ]
  },
  {
   "cell_type": "code",
   "execution_count": null,
   "metadata": {},
   "outputs": [
    {
     "name": "stdout",
     "output_type": "stream",
     "text": [
      "[22, 54, 3, 1, 21, 13, 4, 12, 3, 0]\n"
     ]
    }
   ],
   "source": [
    "N = [4, 3, 12, 54, 22, 13, 1, 21, 0, 23]\n",
    "print([N[U[i]] for i in range(len(N))])"
   ]
  },
  {
   "cell_type": "markdown",
   "metadata": {},
   "source": [
    "a) Draw the tree we obtain if we start from the empty AVL tree and add consecutively the numbers of the array `A`, starting from `A[0]`.\n",
    "![](lab8-5a.png)\n",
    "    \n",
    "Explain step-by-step how the first rotation in your tree was performed.\n",
    "\n",
    "When inserting the element `13`, it would be placed as the left child of `21`.  \n",
    "Height of `3` > Height of `54`. Perform right rotation.  \n",
    "Move the root (22) to the right child of itself  \n",
    "Copy data of right child of 3 (21) to root  \n",
    "Replace right child of 3 (21) by its child (13)\n",
    "\n",
    "b) Draw the AVL tree we obtain if, starting from the tree built in part a, we remove its root.\n",
    "![](lab8-5b.png)"
   ]
  },
  {
   "cell_type": "markdown",
   "metadata": {},
   "source": [
    "## Question 6\n",
    "\n",
    "Implement the function `remove` for the `AVLTree` class.\n",
    "\n",
    "The function should remove elements exactly as the `remove` function of the `BST` class, but rebalance the tree after each node removal."
   ]
  },
  {
   "cell_type": "markdown",
   "metadata": {},
   "source": [
    "## Priority Queues\n",
    "\n",
    "For the next question, we look again at priority queues. A priority queue is a queue in \n",
    "which each element has a priority, and where dequeueing always returns the item with the \n",
    "greatest priority in the queue.\n",
    "\n",
    "We start by defining a class of priority queue elements (PQ-elements for short):\n",
    "\n",
    "    class PQElement:\n",
    "        def __init__(self, v, p):\n",
    "            self.val = v\n",
    "            self.priority = p\n",
    "\n",
    "So, a PQ-element is a pair consisting of a value (which can be anything, e.g. an integer, a \n",
    "string, an array, etc.) and a priority (which is an integer). \n",
    "\n",
    "In Lab 5 we also implemented the `__str__` function to be able to print PQ-elements.\n",
    "\n",
    "## Question 7\n",
    "\n",
    "Write a Python class `PQueue` that implements a priority queue using a heap of \n",
    "`PQElement`’s. In particular, you need to implement 5 functions:\n",
    "- one for creating an empty priority queue\n",
    "- one for returning the size of the priority queue\n",
    "- one for enqueueing a new PQ-element in the priority queue\n",
    "- one for dequeueing from the priority queue the PQ-element with the greatest priority\n",
    "- one that prints the elements of the priority queue into a string (call this one `__str__`)\n",
    "\n",
    "Test each of the functions on examples of your own making. For example, running:\n",
    "\n",
    "    pq = PQueue()\n",
    "    A = [(1,9),(3,7),(13,-3),(0,10),(4,6),(5,5),(6,4),(2,8),(7,3),(9,1),(14,-4),(10,0),(11,-1),(8,2),(12,-2)]\n",
    "    for x in A: pq.enq(PQElement(x[0],x[1]))\n",
    "    print(pq)\n",
    "    print(pq.deq(),pq)\n",
    "\n",
    "should give this printout:\n",
    "\n",
    "    [(0,10),(1,9),(2,8),(3,7),(4,6),(5,5),(6,4),(7,3),(8,2),(9,1),(10,0),(11,-1),(12,-2),(13,-3),(14,-4)]\n",
    "    (0,10) [(1,9),(2,8),(3,7),(4,6),(5,5),(6,4),(7,3),(8,2),(9,1),(10,0),(11,-1),(12,-2),(13,-3),(14,-4)]\n",
    "\n",
    "**Note:** the print function should print the queue elements in descending priority order, without changing \n",
    "the queue. One idea is to use the function `toSortedArray` from Question 4."
   ]
  },
  {
   "cell_type": "code",
   "execution_count": 8,
   "metadata": {},
   "outputs": [
    {
     "ename": "NameError",
     "evalue": "name 'Heap' is not defined",
     "output_type": "error",
     "traceback": [
      "\u001b[1;31m---------------------------------------------------------------------------\u001b[0m",
      "\u001b[1;31mNameError\u001b[0m                                 Traceback (most recent call last)",
      "Cell \u001b[1;32mIn [8], line 26\u001b[0m\n\u001b[0;32m     22\u001b[0m     \u001b[39mdef\u001b[39;00m \u001b[39m__str__\u001b[39m(\u001b[39mself\u001b[39m):\n\u001b[0;32m     23\u001b[0m         \u001b[39mreturn\u001b[39;00m \u001b[39mstr\u001b[39m(\u001b[39mself\u001b[39m\u001b[39m.\u001b[39mheap)\n\u001b[1;32m---> 26\u001b[0m pq \u001b[39m=\u001b[39m PQueue()\n\u001b[0;32m     27\u001b[0m A \u001b[39m=\u001b[39m [(\u001b[39m1\u001b[39m,\u001b[39m9\u001b[39m),(\u001b[39m3\u001b[39m,\u001b[39m7\u001b[39m),(\u001b[39m13\u001b[39m,\u001b[39m-\u001b[39m\u001b[39m3\u001b[39m),(\u001b[39m0\u001b[39m,\u001b[39m10\u001b[39m),(\u001b[39m4\u001b[39m,\u001b[39m6\u001b[39m),(\u001b[39m5\u001b[39m,\u001b[39m5\u001b[39m),(\u001b[39m6\u001b[39m,\u001b[39m4\u001b[39m),(\u001b[39m2\u001b[39m,\u001b[39m8\u001b[39m),(\u001b[39m7\u001b[39m,\u001b[39m3\u001b[39m),(\u001b[39m9\u001b[39m,\u001b[39m1\u001b[39m),(\u001b[39m14\u001b[39m,\u001b[39m-\u001b[39m\u001b[39m4\u001b[39m),(\u001b[39m10\u001b[39m,\u001b[39m0\u001b[39m),(\u001b[39m11\u001b[39m,\u001b[39m-\u001b[39m\u001b[39m1\u001b[39m),(\u001b[39m8\u001b[39m,\u001b[39m2\u001b[39m),(\u001b[39m12\u001b[39m,\u001b[39m-\u001b[39m\u001b[39m2\u001b[39m)]\n\u001b[0;32m     28\u001b[0m \u001b[39mfor\u001b[39;00m x \u001b[39min\u001b[39;00m A: pq\u001b[39m.\u001b[39menq(PQElement(x[\u001b[39m0\u001b[39m],x[\u001b[39m1\u001b[39m]))\n",
      "Cell \u001b[1;32mIn [8], line 11\u001b[0m, in \u001b[0;36mPQueue.__init__\u001b[1;34m(self)\u001b[0m\n\u001b[0;32m     10\u001b[0m \u001b[39mdef\u001b[39;00m \u001b[39m__init__\u001b[39m(\u001b[39mself\u001b[39m):\n\u001b[1;32m---> 11\u001b[0m     \u001b[39mself\u001b[39m\u001b[39m.\u001b[39mheap \u001b[39m=\u001b[39m Heap()\n",
      "\u001b[1;31mNameError\u001b[0m: name 'Heap' is not defined"
     ]
    }
   ],
   "source": [
    "class PQElement:\n",
    "    def __init__(self, p, v):\n",
    "        self.val = v\n",
    "        self.priority = p\n",
    "\n",
    "    def __repr__(self):\n",
    "        return f'({self.priority},{self.val})'\n",
    "\n",
    "class PQueue:\n",
    "    def __init__(self):\n",
    "        self.heap = []\n",
    "    \n",
    "    def size(self):\n",
    "        return len(self.heap)\n",
    "\n",
    "    def enq(self, d):\n",
    "        self.heap.append(d)\n",
    "\n",
    "    def deq(self):\n",
    "        return self.heap.pop(0)\n",
    "\n",
    "    def __str__(self):\n",
    "        return str(self.heap)\n",
    "\n",
    "\n",
    "pq = PQueue()\n",
    "A = [(1,9),(3,7),(13,-3),(0,10),(4,6),(5,5),(6,4),(2,8),(7,3),(9,1),(14,-4),(10,0),(11,-1),(8,2),(12,-2)]\n",
    "for x in A: pq.enq(PQElement(x[0],x[1]))\n",
    "print(pq)\n",
    "print(pq.deq(),pq)"
   ]
  }
 ],
 "metadata": {
  "kernelspec": {
   "display_name": "Python 3.9.10 64-bit",
   "language": "python",
   "name": "python3"
  },
  "language_info": {
   "codemirror_mode": {
    "name": "ipython",
    "version": 3
   },
   "file_extension": ".py",
   "mimetype": "text/x-python",
   "name": "python",
   "nbconvert_exporter": "python",
   "pygments_lexer": "ipython3",
   "version": "3.9.10"
  },
  "vscode": {
   "interpreter": {
    "hash": "1b0895c66568e73e276bb893c04a8073c05e6253df2b08ce8ed4f518d02d13f8"
   }
  }
 },
 "nbformat": 4,
 "nbformat_minor": 2
}
