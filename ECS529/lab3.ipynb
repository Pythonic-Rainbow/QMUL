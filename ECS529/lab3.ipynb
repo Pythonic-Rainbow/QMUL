{
 "cells": [
  {
   "cell_type": "markdown",
   "metadata": {},
   "source": [
    "# ECS529U Algorithms and Data Structures\n",
    "# Lab sheet 3\n",
    "\n",
    "This third lab gets you to work with big-Θ classes and practically check the efficiency of\n",
    "sorting algorithms by testing them on randomly generated arrays.\n",
    "\n",
    "**Marks (max 5):** Question 1: 1.5 | Question 2: 1 | Questions 3-7: 0.5 each"
   ]
  },
  {
   "cell_type": "markdown",
   "metadata": {},
   "source": [
    "## Question 1 (does not require coding)\n",
    "\n",
    "For each of the following expressions, find if they are Θ(1), Θ(logn), Θ(n), Θ(nlogn), Θ(<sup>2</sup>), Θ(n<sup>2022</sup>) or Θ(2<sup>n</sup>):\n",
    "1. 500 + 0.5n + 45logn  <b>Θ(n)</b>\n",
    "2. 5000     <b>Θ(1)</b>\n",
    "3. 42 + nlogn + 5logn + 50n   <b>Θ(nlogn)</b>\n",
    "4. 5nlogn + 2<sup>n</sup> + 300n<sup>2020</sup>n<sup>2</sup>   <b>Θ(n<sup>2022</sup>)</b>\n",
    "\n",
    "Find the complexity, in terms of a simple big-Θ class, of the following expression:\n",
    "\n",
    "&nbsp;&nbsp;&nbsp;&nbsp;&nbsp;&nbsp;5(logn)<sup>13</sup> + 300n<sup>3</sup> + 30nlogn + 100    <b>Θ(n<sup>3</sup>)</b>\n",
    "\n",
    "Finally, consider the following function that counts the duplicate elements inside an array.\n",
    "\n",
    "    def countDups(A):\n",
    "        B = A[:]\n",
    "        selectionSort(B)\n",
    "        dups = 0\n",
    "        for i in range (1,len(B)):\n",
    "            if B[i] == B[i-1]: dups += 1\n",
    "        return dups\n",
    "        \n",
    "Explain, in terms of big-Θ, what is the worst-case time complexity of `countDups` as a function of the size of the array `A`. Note here that the line `B=A[:]` is the same `B=A[0:len(A)]`, that is, it creates a copy of `A` and stores it in `B`.\n",
    "\n",
    "<b>After the selection sort, the code iterates the array from the 2nd element to the last element. Each element would be compared by the previous one, so there are n-1 comparisons. But selection sort is n<sup>2</sup> so it is Θ(n<sup>2</sup>)</b>"
   ]
  },
  {
   "cell_type": "markdown",
   "metadata": {},
   "source": [
    "## Question 2\n",
    "\n",
    "Write a version of insertion sort that works constructively, i.e. returns a new sorted array and leaves the original array unchanged.\n",
    "\n",
    "For example, if we call this version `insertionSortC`, and run the following code\n",
    "\n",
    "    A = [30, 25, 67, 99, 8, 16, 28, 63, 12, 20]\n",
    "    B = insertionSortC(A1)\n",
    "    print(\"Original array is: \",A)\n",
    "    print(\"Sorted is: \",B)\n",
    "we get this printout:\n",
    "\n",
    "    Original array is:  [30, 25, 67, 99, 8, 16, 28, 63, 12, 20]\n",
    "    Sorted is:  [8, 12, 16, 20, 25, 28, 30, 63, 67, 99]\n",
    "    \n",
    "Test your code in at least 5 arrays of your choosing, including the empty array."
   ]
  },
  {
   "cell_type": "code",
   "execution_count": 5,
   "metadata": {},
   "outputs": [
    {
     "name": "stdout",
     "output_type": "stream",
     "text": [
      "Original array is: [30, 25, 67, 99, 8, 16, 28, 63, 12, 20]\n",
      "Sorted is: [8, 12, 16, 20, 25, 28, 30, 63, 67, 99]\n",
      "Original array is: [2, 6, 8, 5, 7, 5]\n",
      "Sorted is: [2, 5, 5, 6, 7, 8]\n",
      "Original array is: [1, 3, 5, 6]\n",
      "Sorted is: [1, 3, 5, 6]\n",
      "Original array is: []\n",
      "Sorted is: []\n",
      "Original array is: [67, 69, 56, 45, 200]\n",
      "Sorted is: [45, 56, 67, 69, 200]\n"
     ]
    }
   ],
   "source": [
    "def insertionSortC(i):\n",
    "    x = i[:]\n",
    "    for i in range(len(x)):\n",
    "        for j in range(len(x)-i-1):\n",
    "            if x[j] > x[j+1]:\n",
    "                temp = x[j]\n",
    "                x[j] = x[j+1]\n",
    "                x[j+1] = temp\n",
    "    return x\n",
    "\n",
    "for a in (\n",
    "    [30, 25, 67, 99, 8, 16, 28, 63, 12, 20],\n",
    "    [2,6,8,5,7,5],\n",
    "    [1,3,5,6],\n",
    "    [],\n",
    "    [67,69,56,45,200]\n",
    "):\n",
    "    print(f\"Original array is: {a}\")\n",
    "    a = insertionSortC(a)\n",
    "    print(f\"Sorted is: {a}\")"
   ]
  },
  {
   "cell_type": "markdown",
   "metadata": {},
   "source": [
    "## Question 3\n",
    "\n",
    "For this question you may use Python's built-in function for producing random numbers. If you import Python's built-in module `random` by calling:\n",
    "\n",
    "    import random\n",
    "\n",
    "then `random.randint(low,high)` will return a random integer in the range `low` to `high` inclusive (i.e. an integer with an equal chance of it being any of the numbers in that range). Use this to write a Python function:\n",
    "\n",
    "    def randomIntArray(s,n)\n",
    "\n",
    "which returns an array of length `s` that in each position has a random integer in the range `0` to `n`.\n",
    "\n",
    "For example, running `randomIntArray(5,10)` we may get back the array `[6, 2, 3, 9, 1]`, or `[6, 10, 6, 1, 1]`, etc."
   ]
  },
  {
   "cell_type": "code",
   "execution_count": 2,
   "metadata": {},
   "outputs": [
    {
     "name": "stdout",
     "output_type": "stream",
     "text": [
      "[0, 6, 1, 0, 1]\n"
     ]
    }
   ],
   "source": [
    "import random\n",
    "\n",
    "def randomIntArray(s, n):\n",
    "    a = []\n",
    "    for i in range(s):\n",
    "        a.append(random.randint(0, n))\n",
    "    return a\n",
    "\n",
    "print(randomIntArray(5, 10))"
   ]
  },
  {
   "cell_type": "markdown",
   "metadata": {},
   "source": [
    "## Question 4\n",
    "\n",
    "Python's built-in function `time()` in the module `time` returns the current time in the form of the number of seconds since 0.00am on 1st January 1970. So, code of the form:\n",
    "\n",
    "    t = time.time()\n",
    "    <operation>\n",
    "    t = time.time()-t\n",
    "    \n",
    "will set `t` to the time it takes to perform `<operation>`. As `time.time()` returns a floating point number rather than an integer, this could be a fraction of a second.\n",
    "\n",
    "Use this to write a Python function:\n",
    "\n",
    "    def appendTime(A,v)\n",
    "which takes an array `A` a value `v` as input and creates a new array with the same elements as `A` but with `v` appended at its end (for example, you can use the code of the function `append` that we saw in Lecture 1). The function then returns the new array and the time it took to create it. For example:\n",
    "\n",
    "    A = [30, 25, 67, 99, 8, 16, 28, 63, 12, 20]\n",
    "    (B,t) = appendTime(A,42)\n",
    "    print(\"Time taken to append is: \",t)\n",
    "    print(\"The new array is: \",B)\n",
    "\n",
    "we can get the printout:\n",
    "\n",
    "    Time taken to append is:  8.58306884765625e-06\n",
    "    The new array is:  [30, 25, 67, 99, 8, 16, 28, 63, 12, 20, 42]\n",
    "Test your code in at least 5 arrays, with lengths 0, 10, 100, 1000 and 10000 respectively."
   ]
  },
  {
   "cell_type": "code",
   "execution_count": 3,
   "metadata": {},
   "outputs": [
    {
     "name": "stdout",
     "output_type": "stream",
     "text": [
      "Time taken to append is: 0.0\n",
      "Time taken to append is: 0.0\n",
      "Time taken to append is: 0.0\n",
      "Time taken to append is: 0.0010046958923339844\n",
      "Time taken to append is: 0.0029952526092529297\n"
     ]
    }
   ],
   "source": [
    "import time\n",
    "\n",
    "def append(A, k):\n",
    "    B = [0 for i in range(len(A)+1)]\n",
    "    for i in range(len(A)):\n",
    "        B[i] = A[i]\n",
    "        B[len(A)] = k\n",
    "    return B\n",
    "\n",
    "def appendTime(a, e):\n",
    "    start = time.time()\n",
    "    c = a[:]\n",
    "    append(c, e)\n",
    "    start = time.time() - start\n",
    "    return c, start\n",
    "\n",
    "tests = (randomIntArray(i,100) for i in [0,10,100,1000,10000])\n",
    "for A in tests:\n",
    "    (B,t) = appendTime(A,42)\n",
    "    print(f\"Time taken to append is: {t}\")"
   ]
  },
  {
   "cell_type": "markdown",
   "metadata": {},
   "source": [
    "## Question 5\n",
    "\n",
    "Write a Python method:\n",
    "\n",
    "    def sortTimeUsing(sortf,A)\n",
    "    \n",
    "which returns the time taken to sort the array `A`, but does the sorting using the sorting function\n",
    "passed as argument `sortf`. This uses the concept of passing a function as an\n",
    "argument that was introduced in Question 6 of Lab 1.\n",
    "\n",
    "Use this to compare the time taken to sort using selection sort\n",
    "with the time taken to sort using insertion sort, the code of which you can find on the\n",
    "lecture slides, on some example arrays."
   ]
  },
  {
   "cell_type": "code",
   "execution_count": 6,
   "metadata": {},
   "outputs": [
    {
     "name": "stdout",
     "output_type": "stream",
     "text": [
      "Time used: 0.000972747802734375\n",
      "Time used: 0.0010731220245361328\n",
      "False\n"
     ]
    }
   ],
   "source": [
    "import time\n",
    "\n",
    "def sortTimeUsing(sortf, A):\n",
    "    start = time.time()\n",
    "    result = sortf(A)\n",
    "    end = time.time()\n",
    "    print(f'Time used: {end - start}')\n",
    "    return result\n",
    "    \n",
    "def selection_sort(i):\n",
    "    o = []\n",
    "    while i:\n",
    "        min_i, min_v = 0, 99999\n",
    "        for e in range(len(i)):\n",
    "            if i[e] < min_v:\n",
    "                min_v = i[e]\n",
    "                min_i = e\n",
    "        append(o, min_v)\n",
    "        i.pop(min_i)\n",
    "    return o\n",
    "\n",
    "test = randomIntArray(100, 10000)\n",
    "ins = sortTimeUsing(insertionSortC, test)\n",
    "sel = sortTimeUsing(selection_sort, test)\n",
    "print(ins == sel)"
   ]
  },
  {
   "cell_type": "markdown",
   "metadata": {},
   "source": [
    "## Question 6\n",
    "\n",
    "Use the method `randomIntArray` from Question 3 to provide arrays to be sorted by\n",
    "`sortTimeUsing`. This will enable you to test how long it takes to sort an array much longer than\n",
    "one you could type in yourself. Then, fill in the following table (but see Note).\n",
    "\n",
    "| array length |  10  | 100 | 1000 | 10<sup>4</sup> | 10<sup>5</sup> | 10<sup>6</sup> |\n",
    "|:------------|------|-----|------|-------|--------|----------------|\n",
    "| selection sort time (sec)|  0  |    0 |0.014|1.409|149.972|\n",
    "| insertion sort time (sec)|  0  |    0 |0.054|5.825|646.276|\n",
    "\n",
    "For each array length, produce a random array of that length, sort it via `sortTimeUsing` using selection sort and insertion sort (make sure you sort the same array twice!), and fill in the table the corresponding times.\n",
    "\n",
    "Note: sorting arrays of length greater than 10<sup>5</sup> may make your computer run out of\n",
    "memory and hang. For that reason, you can skip filling in the last column in the table. If you do want to fill it in, make sure you save everything before and be ready to hard-restart your computer!\n",
    "\n",
    "It would also make sense to stop a test if it runs over a few minutes and fill in “timeout” in\n",
    "the respective column."
   ]
  },
  {
   "cell_type": "code",
   "execution_count": 14,
   "metadata": {},
   "outputs": [
    {
     "name": "stdout",
     "output_type": "stream",
     "text": [
      "1\n",
      "Time used: 0.0\n",
      "Time used: 0.0\n",
      "True\n",
      "2\n",
      "Time used: 0.0\n",
      "Time used: 0.0\n",
      "True\n",
      "3\n",
      "Time used: 0.05398845672607422\n",
      "Time used: 0.013890266418457031\n",
      "True\n",
      "4\n",
      "Time used: 5.82505202293396\n",
      "Time used: 1.408548355102539\n",
      "True\n",
      "5\n",
      "Time used: 646.2758927345276\n",
      "Time used: 149.97230052947998\n",
      "False\n",
      "6\n"
     ]
    },
    {
     "ename": "KeyboardInterrupt",
     "evalue": "",
     "output_type": "error",
     "traceback": [
      "\u001b[1;31m---------------------------------------------------------------------------\u001b[0m",
      "\u001b[1;31mKeyboardInterrupt\u001b[0m                         Traceback (most recent call last)",
      "Cell \u001b[1;32mIn [14], line 4\u001b[0m\n\u001b[0;32m      2\u001b[0m \u001b[39mprint\u001b[39m(size_pow)\n\u001b[0;32m      3\u001b[0m test \u001b[39m=\u001b[39m randomIntArray(\u001b[39m10\u001b[39m\u001b[39m*\u001b[39m\u001b[39m*\u001b[39msize_pow, \u001b[39m10\u001b[39m\u001b[39m*\u001b[39m\u001b[39m*\u001b[39msize_pow)\n\u001b[1;32m----> 4\u001b[0m ins \u001b[39m=\u001b[39m sortTimeUsing(insertionSortC, test)\n\u001b[0;32m      5\u001b[0m sel \u001b[39m=\u001b[39m sortTimeUsing(selection_sort, test)\n\u001b[0;32m      6\u001b[0m \u001b[39mprint\u001b[39m(ins \u001b[39m==\u001b[39m sel)\n",
      "Cell \u001b[1;32mIn [13], line 5\u001b[0m, in \u001b[0;36msortTimeUsing\u001b[1;34m(sortf, A)\u001b[0m\n\u001b[0;32m      3\u001b[0m \u001b[39mdef\u001b[39;00m \u001b[39msortTimeUsing\u001b[39m(sortf, A):\n\u001b[0;32m      4\u001b[0m     start \u001b[39m=\u001b[39m time\u001b[39m.\u001b[39mtime()\n\u001b[1;32m----> 5\u001b[0m     result \u001b[39m=\u001b[39m sortf(A)\n\u001b[0;32m      6\u001b[0m     end \u001b[39m=\u001b[39m time\u001b[39m.\u001b[39mtime()\n\u001b[0;32m      7\u001b[0m     \u001b[39mprint\u001b[39m(\u001b[39mf\u001b[39m\u001b[39m'\u001b[39m\u001b[39mTime used: \u001b[39m\u001b[39m{\u001b[39;00mend \u001b[39m-\u001b[39m start\u001b[39m}\u001b[39;00m\u001b[39m'\u001b[39m)\n",
      "Cell \u001b[1;32mIn [4], line 8\u001b[0m, in \u001b[0;36minsertionSortC\u001b[1;34m(i)\u001b[0m\n\u001b[0;32m      6\u001b[0m             temp \u001b[39m=\u001b[39m x[j]\n\u001b[0;32m      7\u001b[0m             x[j] \u001b[39m=\u001b[39m x[j\u001b[39m+\u001b[39m\u001b[39m1\u001b[39m]\n\u001b[1;32m----> 8\u001b[0m             x[j\u001b[39m+\u001b[39;49m\u001b[39m1\u001b[39;49m] \u001b[39m=\u001b[39m temp\n\u001b[0;32m      9\u001b[0m \u001b[39mreturn\u001b[39;00m x\n",
      "\u001b[1;31mKeyboardInterrupt\u001b[0m: "
     ]
    }
   ],
   "source": [
    "for size_pow in range(1, 7):\n",
    "    print(size_pow)\n",
    "    test = randomIntArray(10**size_pow, 10**size_pow)\n",
    "    ins = sortTimeUsing(insertionSortC, test)\n",
    "    sel = sortTimeUsing(selection_sort, test)\n",
    "    print(ins == sel)"
   ]
  },
  {
   "cell_type": "markdown",
   "metadata": {},
   "source": [
    "## Question 7\n",
    "\n",
    "Write a version of insertion sort where the `insert` function uses binary search. More precisely, to insert a value `v` in an array `A` where the part `A[:i]` is sorted, the `insert` function will:\n",
    "- use binary search to find the position in `A[:i+1]` where `v` needs to be inserted\n",
    "- move elements from that position one place to the right and insert `v`\n",
    "\n",
    "What is the complexity of this version of insertion sort: O(n<sup>2</sup>) or O(nlogn)?\n",
    "\n",
    "<b>O(nlogn) because for each element we insert via binary search, and binary search is O(logn)</b>"
   ]
  },
  {
   "cell_type": "code",
   "execution_count": 36,
   "metadata": {},
   "outputs": [
    {
     "name": "stdout",
     "output_type": "stream",
     "text": [
      "Before: [56, 18, 13, 58, 28, 74, 51, 6, 51, 8, 30, 96, 20, 77, 5, 39, 77, 15, 86, 2]\n",
      "After: [2, 5, 6, 8, 13, 15, 18, 20, 28, 30, 39, 51, 51, 56, 58, 74, 77, 77, 86, 96]\n"
     ]
    }
   ],
   "source": [
    "def bin_search(A, t):\n",
    "    l = 0\n",
    "    r = len(A) - 1\n",
    "\n",
    "    while l <= r:\n",
    "        m = (l + r) // 2\n",
    "        if A[m] < t:\n",
    "            l = m + 1\n",
    "        elif A[m] > t:\n",
    "            r = m - 1\n",
    "        else:\n",
    "            return m\n",
    "    if t > A[m]:\n",
    "        return m+1\n",
    "    else:\n",
    "        return m \n",
    "            \n",
    "\n",
    "def fast_insertion_sort(A):\n",
    "    if not A:\n",
    "        return\n",
    "\n",
    "    B = [A[0]]\n",
    "    for e in range(1, len(A)):\n",
    "        e = A[e]\n",
    "        i = bin_search(B, e)\n",
    "        temp = B[:i]\n",
    "        temp.append(e)\n",
    "        temp += B[i:]\n",
    "        B = temp\n",
    "    return B\n",
    "\n",
    "\n",
    "test = randomIntArray(20, 100)\n",
    "print('Before:', test)\n",
    "test = fast_insertion_sort(test)\n",
    "print('After:', test)"
   ]
  }
 ],
 "metadata": {
  "kernelspec": {
   "display_name": "Python 3.9.10 64-bit",
   "language": "python",
   "name": "python3"
  },
  "language_info": {
   "codemirror_mode": {
    "name": "ipython",
    "version": 3
   },
   "file_extension": ".py",
   "mimetype": "text/x-python",
   "name": "python",
   "nbconvert_exporter": "python",
   "pygments_lexer": "ipython3",
   "version": "3.9.10"
  },
  "vscode": {
   "interpreter": {
    "hash": "1b0895c66568e73e276bb893c04a8073c05e6253df2b08ce8ed4f518d02d13f8"
   }
  }
 },
 "nbformat": 4,
 "nbformat_minor": 2
}
